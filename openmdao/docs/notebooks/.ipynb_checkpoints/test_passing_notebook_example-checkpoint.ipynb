{
 "cells": [
  {
   "cell_type": "markdown",
   "metadata": {},
   "source": [
    "# Wow, you made it to the most advanced OpenMDAO Example"
   ]
  },
  {
   "cell_type": "code",
   "execution_count": null,
   "metadata": {},
   "outputs": [],
   "source": [
    "try: \n",
    "    import openmdao.api as om\n",
    "except ImportError:\n",
    "    !pip install openmdao;\n",
    "\n",
    "    import openmdao.api as om"
   ]
  },
  {
   "cell_type": "code",
   "execution_count": null,
   "metadata": {},
   "outputs": [],
   "source": [
    "from openmdao.utils.units import convert_units\n",
    "import unittest"
   ]
  },
  {
   "cell_type": "markdown",
   "metadata": {},
   "source": [
    "Interesting explaination about the code"
   ]
  },
  {
   "cell_type": "code",
   "execution_count": null,
   "metadata": {},
   "outputs": [],
   "source": [
    "tc = unittest.TestCase()"
   ]
  },
  {
   "cell_type": "code",
   "execution_count": null,
   "metadata": {},
   "outputs": [],
   "source": [
    "class TestComp(om.ExplicitComponent):\n",
    "    def setup(self):\n",
    "        self.add_input('foo', units='N')\n",
    "        self.add_output('bar', units='N')\n",
    "        self.declare_partials('bar', 'foo')\n",
    "\n",
    "    def compute(self, inputs, outputs):\n",
    "        outputs['bar'] = inputs['foo']\n",
    "\n",
    "    def compute_partials(self, inputs, J):\n",
    "        J['bar', 'foo'] = 1.\n",
    "\n",
    "p = om.Problem(model=TestComp())\n",
    "p.setup()\n",
    "\n",
    "p.set_val('foo', 5, units='lbf')\n",
    "p.run_model()\n",
    "\n",
    "lbf_val = convert_units(5, 'lbf', 'N')\n",
    "tc.assertEqual(p.get_val('foo'), lbf_val)\n",
    "tc.assertEqual(p.get_val('bar'), lbf_val)"
   ]
  },
  {
   "cell_type": "code",
   "execution_count": null,
   "metadata": {},
   "outputs": [],
   "source": [
    "tc.assertEqual(p.get_val('bar'), lbf_val)"
   ]
  },
  {
   "cell_type": "code",
   "execution_count": null,
   "metadata": {},
   "outputs": [],
   "source": []
  }
 ],
 "metadata": {
  "kernelspec": {
   "display_name": "Python 3",
   "language": "python",
   "name": "python3"
  },
  "language_info": {
   "codemirror_mode": {
    "name": "ipython",
    "version": 3
   },
   "file_extension": ".py",
   "mimetype": "text/x-python",
   "name": "python",
   "nbconvert_exporter": "python",
   "pygments_lexer": "ipython3",
   "version": "3.8.1"
  }
 },
 "nbformat": 4,
 "nbformat_minor": 5
}
