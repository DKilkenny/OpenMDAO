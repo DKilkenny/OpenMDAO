{
 "cells": [
  {
   "cell_type": "code",
   "execution_count": null,
   "id": "numerical-jacksonville",
   "metadata": {},
   "outputs": [],
   "source": [
    "try: \n",
    "    import openmdao.api as om\n",
    "except ImportError:\n",
    "    !pip install openmdao;\n",
    "\n",
    "    import openmdao.api as om"
   ]
  },
  {
   "cell_type": "code",
   "execution_count": null,
   "id": "oriented-rolling",
   "metadata": {},
   "outputs": [],
   "source": [
    "from openmdao.utils.units import convert_units\n",
    "import unittest"
   ]
  },
  {
   "cell_type": "markdown",
   "id": "aggregate-smile",
   "metadata": {},
   "source": [
    "Interesting explaination about the code"
   ]
  },
  {
   "cell_type": "code",
   "execution_count": null,
   "id": "conditional-charger",
   "metadata": {},
   "outputs": [],
   "source": [
    "tc = unittest.TestCase()"
   ]
  },
  {
   "cell_type": "code",
   "execution_count": null,
   "id": "regulated-castle",
   "metadata": {},
   "outputs": [],
   "source": [
    "class TestComp(om.ExplicitComponent):\n",
    "    def setup(self):\n",
    "        self.add_input('foo', units='N')\n",
    "        self.add_output('bar', units='N')\n",
    "        self.declare_partials('bar', 'foo')\n",
    "\n",
    "    def compute(self, inputs, outputs):\n",
    "        outputs['bar'] = inputs['foo']\n",
    "\n",
    "    def compute_partials(self, inputs, J):\n",
    "        J['bar', 'foo'] = 1.\n",
    "\n",
    "p = om.Problem(model=TestComp())\n",
    "p.setup()\n",
    "\n",
    "p.set_val('foo', 5, units='lbf')\n",
    "p.run_model()\n",
    "\n",
    "lbf_val = convert_units(5, 'lbf', 'N')\n",
    "tc.assertEqual(p.get_val('foo'), lbf_val)\n",
    "tc.assertEqual(p.get_val('bar'), lbf_val)"
   ]
  },
  {
   "cell_type": "code",
   "execution_count": null,
   "id": "sealed-auditor",
   "metadata": {},
   "outputs": [],
   "source": [
    "tc.assertEqual(p.get_val('bar'), lbf_val)"
   ]
  },
  {
   "cell_type": "code",
   "execution_count": null,
   "id": "voluntary-fraud",
   "metadata": {},
   "outputs": [],
   "source": []
  }
 ],
 "metadata": {
  "kernelspec": {
   "display_name": "Python 3",
   "language": "python",
   "name": "python3"
  },
  "language_info": {
   "codemirror_mode": {
    "name": "ipython",
    "version": 3
   },
   "file_extension": ".py",
   "mimetype": "text/x-python",
   "name": "python",
   "nbconvert_exporter": "python",
   "pygments_lexer": "ipython3",
   "version": "3.8.5"
  }
 },
 "nbformat": 4,
 "nbformat_minor": 5
}
